{
 "cells": [
  {
   "cell_type": "markdown",
   "id": "0204d601-7f26-4857-b557-908e1b332936",
   "metadata": {},
   "source": [
    "# Data Science Tools and Ecosystem"
   ]
  },
  {
   "cell_type": "markdown",
   "id": "78edbedd-05d9-46e3-aaa6-3a360c3c5213",
   "metadata": {},
   "source": [
    "In this notebook, Data Science Tools and Ecosystem are summarized."
   ]
  },
  {
   "cell_type": "markdown",
   "id": "a72d6fb6-8ef4-4dfe-b5b7-09cbf1aafeb5",
   "metadata": {},
   "source": [
    "**Objectives:**\n",
    "* List popular languages for Data Science\n",
    "* Data Science Tools\n",
    "* List popular languages libraries used by Data Scientists\n",
    "* Perform simple arithmetic expression to mutiply then add integers"
   ]
  },
  {
   "cell_type": "markdown",
   "id": "3f9b70b0-be21-40d0-8b58-67d788b715dd",
   "metadata": {},
   "source": [
    "Some of the popular languages that Data Scientists use are:\n",
    "1. Python\n",
    "2. R\n",
    "3. Julia"
   ]
  },
  {
   "cell_type": "markdown",
   "id": "59a0d6c1-5ad7-405d-8ca4-f444a2f59c61",
   "metadata": {},
   "source": [
    "Some of the commonly used libraries used by Data Scientists include:\n",
    "1. Matplotlib\n",
    "2. numpy\n",
    "3. ggplot"
   ]
  },
  {
   "cell_type": "markdown",
   "id": "50095623-e1ef-408f-90a3-7d7c834ceda2",
   "metadata": {},
   "source": [
    "| Data Science Tools |\n",
    "| ------------------ |\n",
    "| anaconda           |\n",
    "| rstudio            |\n",
    "| pyCharm            |   |"
   ]
  },
  {
   "cell_type": "markdown",
   "id": "b16dbb33-e8e0-4417-87df-d66f8ba732c1",
   "metadata": {},
   "source": [
    "### Below are a few examples of evaluating arithmetic expressions in Python"
   ]
  },
  {
   "cell_type": "code",
   "execution_count": 6,
   "id": "e6f70a3b-d9e8-43e9-b43a-8448f21bb14a",
   "metadata": {},
   "outputs": [
    {
     "data": {
      "text/plain": [
       "17"
      ]
     },
     "execution_count": 6,
     "metadata": {},
     "output_type": "execute_result"
    }
   ],
   "source": [
    "#This a simple arithmetic expression to mutiply then add integers\n",
    "(3*4)+5"
   ]
  },
  {
   "cell_type": "code",
   "execution_count": 7,
   "id": "61f01550-1224-4d34-ad1e-9f51c3eb2820",
   "metadata": {},
   "outputs": [
    {
     "data": {
      "text/plain": [
       "3.3333333333333335"
      ]
     },
     "execution_count": 7,
     "metadata": {},
     "output_type": "execute_result"
    }
   ],
   "source": [
    "#This will convert 200 minutes to hours by diving by 60\n",
    "200/60"
   ]
  },
  {
   "cell_type": "markdown",
   "id": "f45b3ecc-1ee0-4399-9de3-7bfe9f81a8c9",
   "metadata": {},
   "source": [
    "## Author \n",
    "oussama AROUAY"
   ]
  },
  {
   "cell_type": "code",
   "execution_count": null,
   "id": "033c2fa2-502c-42bf-a24c-7780694a1a96",
   "metadata": {},
   "outputs": [],
   "source": []
  }
 ],
 "metadata": {
  "kernelspec": {
   "display_name": "Python 3 (ipykernel)",
   "language": "python",
   "name": "python3"
  },
  "language_info": {
   "codemirror_mode": {
    "name": "ipython",
    "version": 3
   },
   "file_extension": ".py",
   "mimetype": "text/x-python",
   "name": "python",
   "nbconvert_exporter": "python",
   "pygments_lexer": "ipython3",
   "version": "3.12.1"
  }
 },
 "nbformat": 4,
 "nbformat_minor": 5
}
